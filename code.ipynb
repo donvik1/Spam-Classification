{
 "cells": [
  {
   "cell_type": "code",
   "execution_count": 9,
   "id": "881991bd",
   "metadata": {},
   "outputs": [
    {
     "name": "stderr",
     "output_type": "stream",
     "text": [
      "Warning message:\n",
      "\"package 'caret' was built under R version 3.6.3\""
     ]
    },
    {
     "ename": "ERROR",
     "evalue": "Error: package 'lattice' required by 'caret' could not be found\n",
     "output_type": "error",
     "traceback": [
      "Error: package 'lattice' required by 'caret' could not be found\nTraceback:\n",
      "1. library(caret)",
      "2. .getRequiredPackages2(pkgInfo, quietly = quietly)",
      "3. stop(gettextf(\"package %s required by %s could not be found\", \n .     sQuote(pkg), sQuote(pkgname)), call. = FALSE, domain = NA)"
     ]
    }
   ],
   "source": [
    "library(tm)\n",
    "library(e1071)  # For Naive Bayes classifier\n",
    "library(caret)  # For model evaluation\n"
   ]
  },
  {
   "cell_type": "code",
   "execution_count": 10,
   "id": "47f94f68",
   "metadata": {},
   "outputs": [
    {
     "name": "stderr",
     "output_type": "stream",
     "text": [
      "Warning message:\n",
      "\"package 'lattice' is not available (for R version 3.6.1)\""
     ]
    }
   ],
   "source": [
    "install.packages('lattice')"
   ]
  },
  {
   "cell_type": "code",
   "execution_count": null,
   "id": "75f475d1",
   "metadata": {},
   "outputs": [],
   "source": [
    "data <- read.csv(\"archive/spam_or_not_spam.csv\")"
   ]
  },
  {
   "cell_type": "code",
   "execution_count": null,
   "id": "802ecf61",
   "metadata": {},
   "outputs": [],
   "source": [
    "# Create a corpus of emails\n",
    "corpus <- VCorpus(VectorSource(data$email))\n",
    "\n",
    "# Clean and prepare the text\n",
    "corpus <- tm_map(corpus, content_transformer(tolower))  # Convert to lowercase\n",
    "corpus <- tm_map(corpus, removePunctuation)  # Remove punctuation\n",
    "corpus <- tm_map(corpus, removeNumbers)  # Remove numbers\n",
    "corpus <- tm_map(corpus, removeWords, stopwords(\"english\"))  # Remove stop words\n",
    "corpus <- tm_map(corpus, stemDocument)  # Stem words (optional)\n",
    "\n",
    "# Create a document-term matrix\n",
    "dtm <- DocumentTermMatrix(corpus)\n"
   ]
  },
  {
   "cell_type": "code",
   "execution_count": null,
   "id": "b0b4f015",
   "metadata": {},
   "outputs": [],
   "source": [
    "library(tm)\n",
    "library(e1071)  # For Naive Bayes classifier\n",
    "library(caret)  # For model evaluation\n",
    "\n",
    "data <- read.csv(file.choose())\n",
    "\n",
    "\n",
    "# Create a corpus of emails\n",
    "corpus <- VCorpus(VectorSource(data$email))\n",
    "\n",
    "# Clean and prepare the text\n",
    "corpus <- tm_map(corpus, content_transformer(tolower))  # Convert to lowercase\n",
    "corpus <- tm_map(corpus, removePunctuation)  # Remove punctuation\n",
    "corpus <- tm_map(corpus, removeNumbers)  # Remove numbers\n",
    "corpus <- tm_map(corpus, removeWords, stopwords(\"english\"))  # Remove stop words\n",
    "corpus <- tm_map(corpus, stemDocument)  # Stem words (optional)\n",
    "\n",
    "# Create a document-term matrix\n",
    "dtm <- DocumentTermMatrix(corpus)\n",
    "\n",
    "trainIndex <- createDataPartition(data$label, p = 0.8, list = FALSE)\n",
    "train <- data[trainIndex,]\n",
    "test <- data[-trainIndex,]\n",
    "\n",
    "trainDTM <- dtm[trainIndex,]\n",
    "testDTM <- dtm[-trainIndex,]\n",
    "\n",
    "\n",
    "# Convert DocumentTermMatrix to data frame\n",
    "trainDTM_matrix <- as.matrix(trainDTM)\n",
    "trainDTM_df <- as.data.frame(trainDTM_matrix)\n",
    "\n",
    "\n",
    "testDTM_matrix <- as.matrix(testDTM)\n",
    "testDTM_df <- as.data.frame(testDTM_matrix)\n",
    "\n",
    "\n",
    "# Train the classifier\n",
    "classifier <- naiveBayes(trainDTM_df, train$label)\n",
    "\n",
    "predictions <- predict(classifier, testDTM_df)\n",
    "\n",
    "# Ensure factors with same levels\n",
    "predictions <- as.factor(predictions)\n",
    "test$label <- as.factor(test$label)\n",
    "levels(predictions) <- levels(test$label)\n",
    "\n",
    "confusionMatrix(predictions, test$label)\n",
    "\n",
    "\n",
    "newEmail <- \"This is a new email to classify.\"\n",
    "newEmailCorpus <- VCorpus(VectorSource(newEmail))\n",
    "newEmailDTM <- DocumentTermMatrix(newEmailCorpus, control = list(dictionary = Terms(dtm)))\n",
    "prediction <- predict(classifier, newEmailDTM)\n",
    "print(prediction)\n",
    "\n",
    "\n",
    "\n"
   ]
  }
 ],
 "metadata": {
  "kernelspec": {
   "display_name": "R",
   "language": "R",
   "name": "ir"
  },
  "language_info": {
   "codemirror_mode": "r",
   "file_extension": ".r",
   "mimetype": "text/x-r-source",
   "name": "R",
   "pygments_lexer": "r",
   "version": "3.6.1"
  }
 },
 "nbformat": 4,
 "nbformat_minor": 5
}
